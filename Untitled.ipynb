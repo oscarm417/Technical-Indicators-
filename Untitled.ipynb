{
 "cells": [
  {
   "cell_type": "code",
   "execution_count": 12,
   "id": "43da1460",
   "metadata": {},
   "outputs": [
    {
     "name": "stdout",
     "output_type": "stream",
     "text": [
      "[*********************100%***********************]  1 of 1 completed\n"
     ]
    }
   ],
   "source": [
    "import yfinance as yf\n",
    "import numpy as np\n",
    "import matplotlib.pyplot as plt\n",
    "import pandas as pd \n",
    "from ta import add_all_ta_features\n",
    "from ta.utils import dropna\n",
    "spy = yf.download('spy')\n",
    "spy.dropna(inplace = True)\n"
   ]
  },
  {
   "cell_type": "code",
   "execution_count": 13,
   "id": "18c6b101",
   "metadata": {},
   "outputs": [
    {
     "name": "stderr",
     "output_type": "stream",
     "text": [
      "C:\\Users\\oscar\\anaconda3\\lib\\site-packages\\ta\\trend.py:768: RuntimeWarning: invalid value encountered in double_scalars\n",
      "  dip[i] = 100 * (self._dip[i] / self._trs[i])\n",
      "C:\\Users\\oscar\\anaconda3\\lib\\site-packages\\ta\\trend.py:772: RuntimeWarning: invalid value encountered in double_scalars\n",
      "  din[i] = 100 * (self._din[i] / self._trs[i])\n"
     ]
    }
   ],
   "source": [
    "mom_data = add_all_ta_features(\n",
    "    spy,\n",
    "    open=\"Open\",\n",
    "    high=\"High\",\n",
    "    low=\"Low\",\n",
    "    close=\"Close\",\n",
    "    volume=\"Volume\")\n"
   ]
  },
  {
   "cell_type": "code",
   "execution_count": 25,
   "id": "269bee6f",
   "metadata": {},
   "outputs": [],
   "source": [
    "mom_data['return']  = mom_data['Adj Close'].pct_change(20)"
   ]
  },
  {
   "cell_type": "code",
   "execution_count": 26,
   "id": "eaa3bcd5",
   "metadata": {},
   "outputs": [],
   "source": [
    "mom_data['profitable'] = np.where(mom_data['return']>0,1,0)"
   ]
  },
  {
   "cell_type": "code",
   "execution_count": 28,
   "id": "6b1cacfd",
   "metadata": {},
   "outputs": [],
   "source": [
    "mom_data.to_csv('stock_indicator_data.csv')"
   ]
  },
  {
   "cell_type": "code",
   "execution_count": 30,
   "id": "f66d9d14",
   "metadata": {},
   "outputs": [
    {
     "data": {
      "text/plain": [
       "Index(['Open', 'High', 'Low', 'Close', 'Adj Close', 'Volume', 'volume_adi',\n",
       "       'volume_obv', 'volume_cmf', 'volume_fi', 'volume_mfi', 'volume_em',\n",
       "       'volume_sma_em', 'volume_vpt', 'volume_nvi', 'volume_vwap',\n",
       "       'volatility_atr', 'volatility_bbm', 'volatility_bbh', 'volatility_bbl',\n",
       "       'volatility_bbw', 'volatility_bbp', 'volatility_bbhi',\n",
       "       'volatility_bbli', 'volatility_kcc', 'volatility_kch', 'volatility_kcl',\n",
       "       'volatility_kcw', 'volatility_kcp', 'volatility_kchi',\n",
       "       'volatility_kcli', 'volatility_dcl', 'volatility_dch', 'volatility_dcm',\n",
       "       'volatility_dcw', 'volatility_dcp', 'volatility_ui', 'trend_macd',\n",
       "       'trend_macd_signal', 'trend_macd_diff', 'trend_sma_fast',\n",
       "       'trend_sma_slow', 'trend_ema_fast', 'trend_ema_slow', 'trend_adx',\n",
       "       'trend_adx_pos', 'trend_adx_neg', 'trend_vortex_ind_pos',\n",
       "       'trend_vortex_ind_neg', 'trend_vortex_ind_diff', 'trend_trix',\n",
       "       'trend_mass_index', 'trend_cci', 'trend_dpo', 'trend_kst',\n",
       "       'trend_kst_sig', 'trend_kst_diff', 'trend_ichimoku_conv',\n",
       "       'trend_ichimoku_base', 'trend_ichimoku_a', 'trend_ichimoku_b',\n",
       "       'trend_visual_ichimoku_a', 'trend_visual_ichimoku_b', 'trend_aroon_up',\n",
       "       'trend_aroon_down', 'trend_aroon_ind', 'trend_psar_up',\n",
       "       'trend_psar_down', 'trend_psar_up_indicator',\n",
       "       'trend_psar_down_indicator', 'trend_stc', 'momentum_rsi',\n",
       "       'momentum_stoch_rsi', 'momentum_stoch_rsi_k', 'momentum_stoch_rsi_d',\n",
       "       'momentum_tsi', 'momentum_uo', 'momentum_stoch',\n",
       "       'momentum_stoch_signal', 'momentum_wr', 'momentum_ao', 'momentum_kama',\n",
       "       'momentum_roc', 'momentum_ppo', 'momentum_ppo_signal',\n",
       "       'momentum_ppo_hist', 'others_dr', 'others_dlr', 'others_cr', 'return',\n",
       "       'profitable'],\n",
       "      dtype='object')"
      ]
     },
     "execution_count": 30,
     "metadata": {},
     "output_type": "execute_result"
    }
   ],
   "source": [
    "mom_data.columns"
   ]
  },
  {
   "cell_type": "code",
   "execution_count": null,
   "id": "8c4d7b7d",
   "metadata": {},
   "outputs": [],
   "source": []
  }
 ],
 "metadata": {
  "kernelspec": {
   "display_name": "Python 3",
   "language": "python",
   "name": "python3"
  },
  "language_info": {
   "codemirror_mode": {
    "name": "ipython",
    "version": 3
   },
   "file_extension": ".py",
   "mimetype": "text/x-python",
   "name": "python",
   "nbconvert_exporter": "python",
   "pygments_lexer": "ipython3",
   "version": "3.8.8"
  }
 },
 "nbformat": 4,
 "nbformat_minor": 5
}
